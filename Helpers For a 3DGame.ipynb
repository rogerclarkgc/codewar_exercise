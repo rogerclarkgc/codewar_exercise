{
 "cells": [
  {
   "cell_type": "markdown",
   "metadata": {},
   "source": [
    "# Helpers For a 3DGame I: Biggest Triangle in a Sphere"
   ]
  },
  {
   "cell_type": "code",
   "execution_count": 1,
   "metadata": {},
   "outputs": [],
   "source": [
    "maxerr = 1e-10\n",
    "collinear = 1e-8"
   ]
  },
  {
   "cell_type": "code",
   "execution_count": 66,
   "metadata": {},
   "outputs": [],
   "source": [
    "# solve block\n",
    "from math import sqrt\n",
    "from itertools import combinations\n",
    "import pprint\n",
    "\n",
    "def distanceEu(a, b):\n",
    "    pair = zip(a, b)\n",
    "    square_pair = map(lambda x:(x[0]-x[1])**2, pair)\n",
    "    return sqrt(sum(square_pair))\n",
    "\n",
    "\n",
    "def interiorPoints(center, radius, point):\n",
    "    distance = distanceEu(center, point)\n",
    "    if (distance-radius<maxerr) and (abs((distance-radius)/radius)>maxerr):\n",
    "        return True\n",
    "    else:\n",
    "        return False\n",
    " \n",
    "\n",
    "def heronFormula(triangle):\n",
    "    # the heron formula s = sqrt(p*(p-a)*(p-b)*(p-c))\n",
    "    a = distanceEu(triangle[0], triangle[1])\n",
    "    b = distanceEu(triangle[0], triangle[2])\n",
    "    c = distanceEu(triangle[1], triangle[2])\n",
    "    p = (a+b+c)/2\n",
    "    s = sqrt(p*(p-a)*(p-b)*(p-c))\n",
    "    return s\n",
    "\n",
    "def biggest_triang_int(point_list, center, radius):\n",
    "    inner_points = [point for point in point_list if interiorPoints(center, radius, point)]\n",
    "    # code should work when all points not in the sphere\n",
    "    if len(inner_points) < 3:\n",
    "        return []\n",
    "    else:\n",
    "        triang_set = list(combinations(inner_points, 3))\n",
    "        area_set = [heronFormula(triang) for triang in triang_set]\n",
    "        pair_set = sorted(zip(triang_set, area_set), \n",
    "                          key=lambda x:x[1], \n",
    "                          reverse=True)\n",
    "        # code should work when all points are collinear\n",
    "        realTriang = [pair for pair in pair_set if pair[1] > collinear]\n",
    "        max_set = [pair for pair in realTriang if (abs(pair[1] - pair_set[0][1]) < maxerr)]\n",
    "        try:\n",
    "            maxArea = max_set[0][1]\n",
    "        except IndexError:\n",
    "            return []\n",
    "        sort_set = sorted(max_set, key=lambda x:(x[0][0][0], x[0][0][1], x[0][0][2]))\n",
    "        if len(sort_set) == 1:\n",
    "            maxTriang = list(sort_set[0][0])\n",
    "        else:\n",
    "            maxTriang = [list(pair[0]) for pair in sort_set]\n",
    "        numTriang = len(realTriang)\n",
    "        return [numTriang, maxArea, maxTriang]\n",
    "    \n",
    "\n",
    "    "
   ]
  },
  {
   "cell_type": "code",
   "execution_count": 4,
   "metadata": {},
   "outputs": [
    {
     "name": "stdout",
     "output_type": "stream",
     "text": [
      "{'distance': 5.196152422706632, 'result2': True, 'result': True, 'result1': True}\n"
     ]
    },
    {
     "data": {
      "text/plain": [
       "4.242640687119288"
      ]
     },
     "execution_count": 4,
     "metadata": {},
     "output_type": "execute_result"
    }
   ],
   "source": [
    "# test block\n",
    "a = [-2, -1, 1]\n",
    "center = [1, 2, -2]\n",
    "distance = distanceEu(center, a)\n",
    "result1 = distance-radius < maxerr\n",
    "result2 = abs((distance-radius)/radius)>maxerr\n",
    "result = result1 and result2\n",
    "all = {'distance': distance, \n",
    "      'result1': result1, \n",
    "      'result2': result2, \n",
    "      'result': result}\n",
    "print(all)\n",
    "heronFormula(([1, 2, 3], [2, 2, 4], [3, 4, -3]))"
   ]
  },
  {
   "cell_type": "code",
   "execution_count": 65,
   "metadata": {
    "scrolled": true
   },
   "outputs": [
    {
     "name": "stdout",
     "output_type": "stream",
     "text": [
      "[[]]\n"
     ]
    }
   ],
   "source": [
    "points_list = [[100, 100, 0], [200, 200, 0], [300, 300, 0],\n",
    "              [400, 400, 0], [500, 500, 0], [600, 600, 0]]\n",
    "sphere_center = [0, 0, 0]\n",
    "radius = 10000\n",
    "pair = biggest_triang_int(points_list, sphere_center, radius)\n",
    "pprint.pprint(pair)"
   ]
  },
  {
   "cell_type": "code",
   "execution_count": 68,
   "metadata": {},
   "outputs": [
    {
     "name": "stdout",
     "output_type": "stream",
     "text": [
      "Help on built-in function sorted in module __builtin__:\n",
      "\n",
      "sorted(...)\n",
      "    sorted(iterable, cmp=None, key=None, reverse=False) --> new sorted list\n",
      "\n"
     ]
    }
   ],
   "source": [
    "help(sorted)"
   ]
  },
  {
   "cell_type": "markdown",
   "metadata": {},
   "source": [
    "`sorted`函数的key参数能指定排序关键字，当采用lambda表达式时，按照如下顺序解释：\n",
    "\n",
    "`lambda x : (x[0], x[1], x[2]...)`\n",
    "\n",
    "当x时一个含有多个关键词的项目时，sorted首先按照`x[0]`排序，当`x[0]`中有相同项目时，则按第二项`x[1]`排序，如果想按照倒序，可在前加上`-`，如`-x[1]`。\n",
    "\n",
    "值得注意的是，浮点数据直接比较常常有精度问题，所以当`x`的关键字中有浮点值时，这个排序结果常常是无法预料的。"
   ]
  }
 ],
 "metadata": {
  "kernelspec": {
   "display_name": "Python 3",
   "language": "python",
   "name": "python3"
  },
  "language_info": {
   "codemirror_mode": {
    "name": "ipython",
    "version": 2
   },
   "file_extension": ".py",
   "mimetype": "text/x-python",
   "name": "python",
   "nbconvert_exporter": "python",
   "pygments_lexer": "ipython2",
   "version": "2.7.12"
  }
 },
 "nbformat": 4,
 "nbformat_minor": 2
}

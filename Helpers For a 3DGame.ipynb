{
 "cells": [
  {
   "cell_type": "markdown",
   "metadata": {},
   "source": [
    "# Helpers For a 3DGame I: Biggest Triangle in a Sphere"
   ]
  },
  {
   "cell_type": "code",
   "execution_count": 30,
   "metadata": {},
   "outputs": [],
   "source": [
    "# set some test variables\n",
    "points_list = [[1,2,-4], [-3, 2, 4], [7, 8, -4], [2, 3, 5], [-2, -1, 1],\n",
    "              [3, 2, 6], [1, 4, 0], [-4, -5, -6], [4, 5, 6], [-2, -3, -5],\n",
    "              [-1, -2, 4], [-3, -2, -6], [-1, -4, 0], [2, 1, -1]]\n",
    "sphere_center = [0, 0, 0]\n",
    "radius = 8\n",
    "maxerr = 1e-10"
   ]
  },
  {
   "cell_type": "code",
   "execution_count": 59,
   "metadata": {},
   "outputs": [],
   "source": [
    "from math import sqrt\n",
    "from itertools import combinations\n",
    "def distanceEu(a, b):\n",
    "    pair = zip(a, b)\n",
    "    square_pair = map(lambda x:(x[0]-x[1])**2, pair)\n",
    "    return sqrt(sum(square_pair))\n",
    "def interiorPoints(center, radius, point):\n",
    "    distance = distanceEu(center, point)\n",
    "    if (distance-radius<maxerr) and (abs((distance-radius)/radius)>maxerr):\n",
    "        return True\n",
    "    else:\n",
    "        return False\n",
    "def halaformula(triangle):\n",
    "    pass"
   ]
  },
  {
   "cell_type": "code",
   "execution_count": 52,
   "metadata": {},
   "outputs": [
    {
     "name": "stdout",
     "output_type": "stream",
     "text": [
      "{'distance': 5.196152422706632, 'result2': True, 'result': True, 'result1': True}\n"
     ]
    }
   ],
   "source": [
    "a = [-2, -1, 1]\n",
    "center = [1, 2, -2]\n",
    "distance = distanceEu(center, a)\n",
    "result1 = distance-radius < maxerr\n",
    "result2 = abs((distance-radius)/radius)>maxerr\n",
    "result = result1 and result2\n",
    "all = {'distance': distance, \n",
    "      'result1': result1, \n",
    "      'result2': result2, \n",
    "      'result': result}\n",
    "print(all)"
   ]
  },
  {
   "cell_type": "code",
   "execution_count": 58,
   "metadata": {},
   "outputs": [
    {
     "name": "stdout",
     "output_type": "stream",
     "text": [
      "[True, True, False, True, True]\n"
     ]
    }
   ],
   "source": [
    "a = [[1, 2, -4], [-3, 2, 4], [7, 8, -4], [2, 3, 5], [-2, -2, 1]]\n",
    "print([interiorPoints(center, radius, i) for i in a])"
   ]
  },
  {
   "cell_type": "code",
   "execution_count": null,
   "metadata": {},
   "outputs": [],
   "source": []
  }
 ],
 "metadata": {
  "kernelspec": {
   "display_name": "Python 3",
   "language": "python",
   "name": "python3"
  },
  "language_info": {
   "codemirror_mode": {
    "name": "ipython",
    "version": 2
   },
   "file_extension": ".py",
   "mimetype": "text/x-python",
   "name": "python",
   "nbconvert_exporter": "python",
   "pygments_lexer": "ipython2",
   "version": "2.7.12"
  }
 },
 "nbformat": 4,
 "nbformat_minor": 2
}

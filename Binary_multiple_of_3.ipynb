{
 "cells": [
  {
   "cell_type": "markdown",
   "metadata": {
    "collapsed": true
   },
   "source": [
    "通过正则表达式来判断一个二进制字符串（形如'11001')代表的数字能否被3整除"
   ]
  },
  {
   "cell_type": "code",
   "execution_count": 1,
   "metadata": {},
   "outputs": [
    {
     "name": "stdout",
     "output_type": "stream",
     "text": [
      "101111000110000101001110\n"
     ]
    }
   ],
   "source": [
    "import re\n",
    "pattern = re.compile(r'^(0+|0*1((10*1)|(01*0))*10*)$')\n",
    "print(\"{:b}\".format(12345678))"
   ]
  },
  {
   "cell_type": "code",
   "execution_count": 7,
   "metadata": {},
   "outputs": [
    {
     "name": "stdout",
     "output_type": "stream",
     "text": [
      "None None <_sre.SRE_Match object; span=(0, 6), match='000110'>\n",
      "[False, False, True]\n"
     ]
    }
   ],
   "source": [
    "res1 = pattern.match('0001')\n",
    "res2 = pattern.match('ooa')\n",
    "res3 = pattern.match('000110')\n",
    "print(res1, res2, res3)\n",
    "print([bool(i) for i in [res1, res2, res3]])"
   ]
  },
  {
   "cell_type": "markdown",
   "metadata": {
    "collapsed": true
   },
   "source": [
    "这道题目涉及到一种算法，即DFA向RE的转换，DFA（Deterministic Finite Automata）是一种模型，用于描述一类有限状态的过程以及这些状态之间转移关系的模型，如果用程序语言描述，它可以转换成类似`if...elif...elif..else..`的形式。在这个题目中，我们可以先用状态机描述出我们想要判断的过程。\n",
    "\n",
    "首先，我们注意到一个数字是否被3整除，其结果有三种状态，分别是余数为0，1，2。这三种状态就是我们自动机的所有可能情况，我们还要知道的就是这些状态之间的转移条件是怎样的。\n",
    "\n",
    "如果我们从左边往右边读字符串，注意到，所有的字符串其实前面都可以加一个0，也就是说0永远都是这个自动机的初始状态。而我们知道，如果一个二进制数字后面加一个0,那么这个二进制数字是原来的两倍，如果后面加一个1,则相当于乘以2加上1，看下面的例子。\n",
    "\n",
    "1. 111 = 7， 1110 == 14， 7 mod 3 == 1, 14 mod 3 == 2\n",
    "2. 111 = 7, 1111 = 15, 7 mod 3 = 1, 15 mod 3 == 0 \n",
    "\n",
    "有了这个规律，我们可以用文字表述如下状态机：\n",
    "\n",
    "1. 0@0=>0, 0余数的数字后是0,数字乘以2，余数乘以2还是0，状态还是0\n",
    "2. 0@1=>1,0余数的数字后是1,数字乘以2加上1, 余数变成1，状态转为1\n",
    "3. 1@0=>2, 1余数的数字后是0,数字乘以2, 余数变成2, 状态变成2\n",
    "4. 1@1=>0, 1余数的数字后是1,数字乘以2加上1,余数变成0, 状态为0\n",
    "5. 2@0=>1, 2余数的数字后是0, 数字乘以2, 余数变成1, 状态为1\n",
    "6. 2@1=>2, 2余数的数字后面是1, 数字乘以2加上1, 余数仍然是2, 状态为2\n",
    "\n",
    "用图来表示，就是这样:\n",
    "\n",
    "[DFA](https://i.stack.imgur.com/TuwGt.png)\n",
    "\n",
    "图中的A，B，C分别表示余数为0, 1， 2的状态。\n",
    "\n",
    "有了自动机，我们就可以把它转换成正则表达式。"
   ]
  }
 ],
 "metadata": {
  "kernelspec": {
   "display_name": "Python 3",
   "language": "python",
   "name": "python3"
  },
  "language_info": {
   "codemirror_mode": {
    "name": "ipython",
    "version": 3
   },
   "file_extension": ".py",
   "mimetype": "text/x-python",
   "name": "python",
   "nbconvert_exporter": "python",
   "pygments_lexer": "ipython3",
   "version": "3.6.3"
  }
 },
 "nbformat": 4,
 "nbformat_minor": 2
}
